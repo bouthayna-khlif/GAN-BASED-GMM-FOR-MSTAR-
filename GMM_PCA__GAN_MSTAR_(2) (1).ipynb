{
  "nbformat": 4,
  "nbformat_minor": 5,
  "metadata": {
    "kernelspec": {
      "display_name": "Python 3",
      "language": "python",
      "name": "python3"
    },
    "language_info": {
      "codemirror_mode": {
        "name": "ipython",
        "version": 3
      },
      "file_extension": ".py",
      "mimetype": "text/x-python",
      "name": "python",
      "nbconvert_exporter": "python",
      "pygments_lexer": "ipython3",
      "version": "3.8.8"
    },
    "colab": {
      "name": "GMM_PCA__GAN_MSTAR (2).ipynb",
      "provenance": [],
      "collapsed_sections": []
    },
    "accelerator": "GPU"
  },
  "cells": [
    {
      "cell_type": "code",
      "metadata": {
        "id": "de91582c"
      },
      "source": [
        "import tensorflow as tf\n",
        "\n",
        "from sklearn import datasets\n",
        "from sklearn.preprocessing import StandardScaler\n",
        "from sklearn.decomposition import PCA\n",
        "from sklearn.metrics import mean_squared_error\n",
        "from sklearn.mixture import GaussianMixture as GMM\n",
        "\n",
        "import tensorflow_datasets as tfds\n",
        "import numpy as np\n",
        "import matplotlib.pyplot as plt\n",
        "import numpy as np\n",
        "import pandas as pd\n",
        "import os\n",
        "import matplotlib.pyplot as plt\n",
        "import tensorflow as tf\n",
        "\n",
        "from tensorflow.keras.utils import to_categorical\n",
        "from tensorflow.keras.preprocessing.image import load_img, img_to_array\n",
        "from tensorflow.python.keras.preprocessing.image import ImageDataGenerator\n",
        "\n",
        "from sklearn.metrics import classification_report, log_loss, accuracy_score\n",
        "from sklearn.model_selection import train_test_split\n",
        "import torch\n"
      ],
      "id": "de91582c",
      "execution_count": null,
      "outputs": []
    },
    {
      "cell_type": "code",
      "metadata": {
        "colab": {
          "base_uri": "https://localhost:8080/"
        },
        "id": "0rv5exMPZm9x",
        "outputId": "4de00776-413c-4695-cc90-972a18aae809"
      },
      "source": [
        "# import splitfolders\n",
        "import tensorflow as tf\n",
        "print(tf.test.gpu_device_name())\n",
        "print(\"Num GPUs Available: \", len(tf.config.experimental.list_physical_devices('GPU')))"
      ],
      "id": "0rv5exMPZm9x",
      "execution_count": null,
      "outputs": [
        {
          "output_type": "stream",
          "text": [
            "/device:GPU:0\n",
            "Num GPUs Available:  1\n"
          ],
          "name": "stdout"
        }
      ]
    },
    {
      "cell_type": "code",
      "metadata": {
        "colab": {
          "base_uri": "https://localhost:8080/"
        },
        "id": "SwMJqJEkZ0Yv",
        "outputId": "482f3646-9d60-4ca1-fda2-2c8db1170131"
      },
      "source": [
        "from google.colab import drive\n",
        "drive.mount('/content/drive')"
      ],
      "id": "SwMJqJEkZ0Yv",
      "execution_count": null,
      "outputs": [
        {
          "output_type": "stream",
          "text": [
            "Mounted at /content/drive\n"
          ],
          "name": "stdout"
        }
      ]
    },
    {
      "cell_type": "code",
      "metadata": {
        "id": "8BH6mdQyaL1o"
      },
      "source": [
        "train = r\"/content/drive/MyDrive/PFE ENSTA BRETAGNE/mstar/TRAIN\"\n",
        "test = r\"/content/drive/MyDrive/PFE ENSTA BRETAGNE/mstar/TEST\""
      ],
      "id": "8BH6mdQyaL1o",
      "execution_count": null,
      "outputs": []
    },
    {
      "cell_type": "code",
      "metadata": {
        "colab": {
          "base_uri": "https://localhost:8080/"
        },
        "id": "GIkPkMuiaL38",
        "outputId": "ad69d555-5691-4a1b-d135-64dfcb0685f4"
      },
      "source": [
        "cat_counts = {}\n",
        "for cat in os.listdir(train):\n",
        "    counts = len(os.listdir(os.path.join(train, cat)))\n",
        "    cat_counts[cat] =counts\n",
        "print(cat_counts)"
      ],
      "id": "GIkPkMuiaL38",
      "execution_count": null,
      "outputs": [
        {
          "output_type": "stream",
          "text": [
            "{'classe3': 298, 'classe9': 299, 'classe10': 299, 'classe5': 233, 'classe2': 233, 'classe7': 299, 'classe8': 232, 'classe1': 292, 'classe4': 256, 'classe6': 299}\n"
          ],
          "name": "stdout"
        }
      ]
    },
    {
      "cell_type": "code",
      "metadata": {
        "colab": {
          "base_uri": "https://localhost:8080/"
        },
        "id": "UqY0eEtmaL7Y",
        "outputId": "94f7f969-34ce-4c4a-a6bd-d103a2772d3e"
      },
      "source": [
        "cat_counts = {}\n",
        "for cat in os.listdir(test):\n",
        "    counts = len(os.listdir(os.path.join(test, cat)))\n",
        "    cat_counts[cat] =counts\n",
        "print(cat_counts)"
      ],
      "id": "UqY0eEtmaL7Y",
      "execution_count": null,
      "outputs": [
        {
          "output_type": "stream",
          "text": [
            "{'classe8': 196, 'classe7': 273, 'classe3': 274, 'classe6': 274, 'classe9': 274, 'classe1': 274, 'classe2': 195, 'classe4': 195, 'classe5': 196, 'classe10': 274}\n"
          ],
          "name": "stdout"
        }
      ]
    },
    {
      "cell_type": "code",
      "metadata": {
        "id": "wHhw8pJoaU2C"
      },
      "source": [
        "PATH1=r'/content/drive/MyDrive/dataset.pt'\n",
        "PATH2='/content/drive/MyDrive/datatest.pt'"
      ],
      "id": "wHhw8pJoaU2C",
      "execution_count": null,
      "outputs": []
    },
    {
      "cell_type": "code",
      "metadata": {
        "id": "OGU_qxUSaU8p"
      },
      "source": [
        "import torch"
      ],
      "id": "OGU_qxUSaU8p",
      "execution_count": null,
      "outputs": []
    },
    {
      "cell_type": "code",
      "metadata": {
        "id": "nEg_FWUvaVAQ"
      },
      "source": [
        "dataset=torch.load(PATH1)\n",
        "datatest=torch.load(PATH2)"
      ],
      "id": "nEg_FWUvaVAQ",
      "execution_count": null,
      "outputs": []
    },
    {
      "cell_type": "code",
      "metadata": {
        "id": "DQDot8SNbMsD"
      },
      "source": [
        "x_train,y_train=zip(*dataset)\n",
        "x_test, y_test=zip(*datatest)\n",
        "y_train=to_categorical(y_train)\n",
        "x_train=np.array(x_train)\n",
        "y_test=to_categorical(y_test)\n",
        "x_test=np.array(x_test)"
      ],
      "id": "DQDot8SNbMsD",
      "execution_count": null,
      "outputs": []
    },
    {
      "cell_type": "code",
      "metadata": {
        "colab": {
          "base_uri": "https://localhost:8080/"
        },
        "id": "8BCMygIGcPm_",
        "outputId": "d05d1d9f-dbb8-4c7a-dcae-912472394022"
      },
      "source": [
        "x_test.shape"
      ],
      "id": "8BCMygIGcPm_",
      "execution_count": null,
      "outputs": [
        {
          "output_type": "execute_result",
          "data": {
            "text/plain": [
              "(2425, 128, 128, 1)"
            ]
          },
          "metadata": {},
          "execution_count": 11
        }
      ]
    },
    {
      "cell_type": "code",
      "metadata": {
        "id": "0985984a"
      },
      "source": [
        "#### Normalize\n",
        "#### Normalize\n",
        "norm_train = np.float32(x_train)/255.00\n",
        "norm_test = np.float32(x_test)/255.00\n",
        "n_images = x_train.shape[0]\n",
        "indexes = np.random.randint(0, norm_train.shape[0],size=n_images)\n",
        "images = norm_train[indexes]"
      ],
      "id": "0985984a",
      "execution_count": null,
      "outputs": []
    },
    {
      "cell_type": "code",
      "metadata": {
        "id": "9c197d48"
      },
      "source": [
        "### Center datasets for PCA\n",
        "\n",
        "images = np.float32(images)\n",
        "mu = np.mean(images)\n",
        "std = np.std(images)\n",
        "images -= mu\n",
        "images /= std\n",
        "pca_input = np.reshape(images,(-1,n_images))"
      ],
      "id": "9c197d48",
      "execution_count": null,
      "outputs": []
    },
    {
      "cell_type": "code",
      "metadata": {
        "colab": {
          "base_uri": "https://localhost:8080/"
        },
        "id": "a3268856",
        "outputId": "fa07f0cf-374f-4fdb-b65d-54bdf7a29ed9"
      },
      "source": [
        "#### DO the PCA\n",
        "\n",
        "n = 100\n",
        "pca_ = PCA(n_components=n)\n",
        "principalComponents = pca_.fit_transform(pca_input)\n",
        "recon = pca_.inverse_transform(principalComponents)\n",
        "mse = mean_squared_error(pca_input, recon,squared=True)\n",
        "print(f\"MSE: {mse} with {n} components\")\n",
        "\n"
      ],
      "id": "a3268856",
      "execution_count": null,
      "outputs": [
        {
          "output_type": "stream",
          "text": [
            "MSE: 0.4748169779777527 with 100 components\n"
          ],
          "name": "stdout"
        }
      ]
    },
    {
      "cell_type": "code",
      "metadata": {
        "colab": {
          "base_uri": "https://localhost:8080/"
        },
        "id": "AlX9HaxDf8T4",
        "outputId": "a4d69d12-2d02-4e76-f9b3-016b70dfc0ab"
      },
      "source": [
        "principalComponents.shape"
      ],
      "id": "AlX9HaxDf8T4",
      "execution_count": null,
      "outputs": [
        {
          "output_type": "execute_result",
          "data": {
            "text/plain": [
              "(16384, 100)"
            ]
          },
          "metadata": {},
          "execution_count": 38
        }
      ]
    },
    {
      "cell_type": "code",
      "metadata": {
        "colab": {
          "base_uri": "https://localhost:8080/",
          "height": 286
        },
        "id": "Tlj-2evG27rV",
        "outputId": "a4a46996-e0ca-43b5-9b03-e13284461951"
      },
      "source": [
        "plt.figure()\n",
        "plt.scatter(principalComponents[:, 0], principalComponents[:, 1],cmap=\"Paired\")\n",
        "plt.colorbar()"
      ],
      "id": "Tlj-2evG27rV",
      "execution_count": null,
      "outputs": [
        {
          "output_type": "execute_result",
          "data": {
            "text/plain": [
              "<matplotlib.colorbar.Colorbar at 0x7f9be0e0f3d0>"
            ]
          },
          "metadata": {},
          "execution_count": 15
        },
        {
          "output_type": "display_data",
          "data": {
            "image/png": "[encoded data removed]",
            "text/plain": [
              "<Figure size 432x288 with 2 Axes>"
            ]
          },
          "metadata": {
            "needs_background": "light"
          }
        }
      ]
    },
    {
      "cell_type": "code",
      "metadata": {
        "id": "s2XspEl2B-4g"
      },
      "source": [
        "from sklearn.mixture import GaussianMixture\n",
        "gmm = GaussianMixture(n_components=2, covariance_type='full')\n",
        "gmm=gmm.fit(principalComponents )\n",
        "labels = gmm.predict(principalComponents )"
      ],
      "id": "s2XspEl2B-4g",
      "execution_count": null,
      "outputs": []
    },
    {
      "cell_type": "code",
      "metadata": {
        "id": "G9F2dy8PfBiC"
      },
      "source": [
        "gmm = GMM(n_components=2, covariance_type='full', random_state=42)\n",
        "plot_gmm(gmm,  principalComponents)"
      ],
      "id": "G9F2dy8PfBiC",
      "execution_count": null,
      "outputs": []
    },
    {
      "cell_type": "code",
      "metadata": {
        "colab": {
          "base_uri": "https://localhost:8080/",
          "height": 286
        },
        "id": "C5xZAcEqCy_q",
        "outputId": "b1ce5120-1e18-4371-e9b6-5537c93e0843"
      },
      "source": [
        "plt.scatter(principalComponents[:, 0], principalComponents[:, 1], c=labels, s=10, cmap='viridis');\n",
        "plt.colorbar()"
      ],
      "id": "C5xZAcEqCy_q",
      "execution_count": null,
      "outputs": [
        {
          "output_type": "execute_result",
          "data": {
            "text/plain": [
              "<matplotlib.colorbar.Colorbar at 0x7f9be091dad0>"
            ]
          },
          "metadata": {},
          "execution_count": 17
        },
        {
          "output_type": "display_data",
          "data": {
            "image/png": "[encoded data removed]",
            "text/plain": [
              "<Figure size 432x288 with 2 Axes>"
            ]
          },
          "metadata": {
            "needs_background": "light"
          }
        }
      ]
    },
    {
      "cell_type": "code",
      "metadata": {
        "colab": {
          "base_uri": "https://localhost:8080/"
        },
        "id": "xeksZ-5JGXlx",
        "outputId": "2ab5aa16-37d8-4118-e3df-8a2c50daaddf"
      },
      "source": [
        "probs = gmm.predict_proba(principalComponents)\n",
        "probs"
      ],
      "id": "xeksZ-5JGXlx",
      "execution_count": null,
      "outputs": [
        {
          "output_type": "execute_result",
          "data": {
            "text/plain": [
              "array([[8.60684042e-01, 1.39315958e-01],\n",
              "       [1.83700555e-20, 1.00000000e+00],\n",
              "       [2.12318293e-82, 1.00000000e+00],\n",
              "       ...,\n",
              "       [3.38667714e-15, 1.00000000e+00],\n",
              "       [1.00000000e+00, 1.16146966e-24],\n",
              "       [1.00000000e+00, 3.66729852e-25]])"
            ]
          },
          "metadata": {
            "tags": []
          },
          "execution_count": 83
        }
      ]
    },
    {
      "cell_type": "code",
      "metadata": {
        "colab": {
          "base_uri": "https://localhost:8080/",
          "height": 285
        },
        "id": "urke1oRUGXqx",
        "outputId": "1dd72f9e-3905-4303-cb8b-9a3f0b75a81f"
      },
      "source": [
        "size = 50 * probs.max(1) ** 2  # square emphasizes differences\n",
        "plt.scatter(principalComponents[:, 0], principalComponents[:, 1], c=labels, cmap='viridis', s=size)"
      ],
      "id": "urke1oRUGXqx",
      "execution_count": null,
      "outputs": [
        {
          "output_type": "execute_result",
          "data": {
            "text/plain": [
              "<matplotlib.collections.PathCollection at 0x7f7a7d71d990>"
            ]
          },
          "metadata": {
            "tags": []
          },
          "execution_count": 85
        },
        {
          "output_type": "display_data",
          "data": {
            "image/png": "[encoded data removed]",
            "text/plain": [
              "<Figure size 432x288 with 1 Axes>"
            ]
          },
          "metadata": {
            "tags": [],
            "needs_background": "light"
          }
        }
      ]
    },
    {
      "cell_type": "code",
      "metadata": {
        "id": "VTnrJYewK4mu",
        "colab": {
          "base_uri": "https://localhost:8080/"
        },
        "outputId": "fa055885-680a-4fb4-8b89-8d7f8a8d2f14"
      },
      "source": [
        "\n",
        "#POUR VERIFIER LE NUMBER DES CLUSTERS \n",
        "Sum_bic = []\n",
        "Sum_aic = []\n",
        "\n",
        "K = range(1,10)\n",
        "for k in K:\n",
        "    gmm = GaussianMixture(n_components=k)\n",
        "    gmm = gmm.fit(principalComponents)\n",
        "    Sum_bic.append(gmm.bic(principalComponents))\n",
        "    Sum_aic.append(gmm.aic(principalComponents))"
      ],
      "id": "VTnrJYewK4mu",
      "execution_count": null,
      "outputs": [
        {
          "output_type": "stream",
          "text": [
            "/usr/local/lib/python3.7/dist-packages/sklearn/mixture/_base.py:267: ConvergenceWarning: Initialization 1 did not converge. Try different init parameters, or increase max_iter, tol or check for degenerate data.\n",
            "  % (init + 1), ConvergenceWarning)\n"
          ],
          "name": "stderr"
        }
      ]
    },
    {
      "cell_type": "code",
      "metadata": {
        "colab": {
          "base_uri": "https://localhost:8080/",
          "height": 297
        },
        "id": "w3lVpln9K4ya",
        "outputId": "38ae8b59-9955-4669-f94b-22530018e548"
      },
      "source": [
        "x1 = K\n",
        "y1 = Sum_aic\n",
        "plt.plot(x1, y1, label = \"AIC\")\n",
        "x2 = K\n",
        "y2 = Sum_bic\n",
        "plt.plot(x2, y2, label = \"BIC\")\n",
        "\n",
        "plt.title(\"AIC and BIC for dofferent numbers of k\", fontsize=16, fontweight='bold')\n",
        "plt.xlabel(\"k\")\n",
        "plt.ylabel(\"Information Criterion\")\n",
        "plt.legend(loc='upper right')\n",
        "plt.show()"
      ],
      "id": "w3lVpln9K4ya",
      "execution_count": null,
      "outputs": [
        {
          "output_type": "display_data",
          "data": {
            "image/png": "[encoded data removed]",
            "text/plain": [
              "<Figure size 432x288 with 1 Axes>"
            ]
          },
          "metadata": {
            "tags": [],
            "needs_background": "light"
          }
        }
      ]
    },
    {
      "cell_type": "code",
      "metadata": {
        "id": "d-jjY4iDLiGN"
      },
      "source": [
        "Z= gmm.sample(100)[1]"
      ],
      "id": "d-jjY4iDLiGN",
      "execution_count": null,
      "outputs": []
    },
    {
      "cell_type": "code",
      "metadata": {
        "colab": {
          "base_uri": "https://localhost:8080/"
        },
        "id": "oz8KN2Xuuo23",
        "outputId": "b3ed1072-69f0-4ca2-a857-6d789983b685"
      },
      "source": [
        "Z.size"
      ],
      "id": "oz8KN2Xuuo23",
      "execution_count": null,
      "outputs": [
        {
          "output_type": "execute_result",
          "data": {
            "text/plain": [
              "100"
            ]
          },
          "metadata": {
            "tags": []
          },
          "execution_count": 89
        }
      ]
    },
    {
      "cell_type": "code",
      "metadata": {
        "colab": {
          "base_uri": "https://localhost:8080/"
        },
        "id": "U5VRMdarfrWI",
        "outputId": "15f9e66a-8974-4039-b249-ad1d7c09a18d"
      },
      "source": [
        "Z.shape"
      ],
      "id": "U5VRMdarfrWI",
      "execution_count": null,
      "outputs": [
        {
          "output_type": "execute_result",
          "data": {
            "text/plain": [
              "(100,)"
            ]
          },
          "metadata": {
            "tags": []
          },
          "execution_count": 90
        }
      ]
    },
    {
      "cell_type": "code",
      "metadata": {
        "id": "yVLRf2aJUHdO"
      },
      "source": [
        "batch_size=100\n",
        "nz = 100"
      ],
      "id": "yVLRf2aJUHdO",
      "execution_count": null,
      "outputs": []
    },
    {
      "cell_type": "code",
      "metadata": {
        "id": "tMoD-zwAQQtZ"
      },
      "source": [
        "\n",
        "def get_noise(batch_size, noise_code):\n",
        "  if noise_code == \"normal\":\n",
        "\n",
        "    return torch.randn( (batch_size, nz, 1, 1), dtype = torch.float )\n",
        "\n",
        "  elif noise_code == \"normal_naive_pca\":\n",
        "\n",
        "    out = np.random.normal(noise_mean, noise_std, size = (batch_size,nz))\n",
        "    return torch.tensor(out, dtype=torch.float).view(batch_size,nz,1,1)\n",
        "\n",
        "  elif noise_code == \"normal_multivar_pca\":\n",
        "\n",
        "    out = np.random.multivariate_normal(noise_mean, noise_cov, size = (batch_size))\n",
        "    return torch.tensor(out, dtype=torch.float).view(batch_size,nz,1,1)\n",
        "\n",
        "  elif noise_code ==\"gm_pca\":\n",
        "      return torch.tensor(gmm.sample(batch_size)[0], dtype=torch.float).view(batch_size,nz,1,1)\n",
        "  else:\n",
        "    return None"
      ],
      "id": "tMoD-zwAQQtZ",
      "execution_count": null,
      "outputs": []
    },
    {
      "cell_type": "code",
      "metadata": {
        "id": "E_V95kv5Q-TM"
      },
      "source": [
        "z=np.array(Z)"
      ],
      "id": "E_V95kv5Q-TM",
      "execution_count": null,
      "outputs": []
    },
    {
      "cell_type": "code",
      "metadata": {
        "id": "b3k-RF5rPDNj"
      },
      "source": [
        "from sklearn.model_selection import train_test_split\n",
        "x_train, x_val, y_train, y_val = train_test_split(x_train, y_train, test_size=0.2, random_state=1)"
      ],
      "id": "b3k-RF5rPDNj",
      "execution_count": null,
      "outputs": []
    },
    {
      "cell_type": "code",
      "metadata": {
        "id": "sdWUVnE-LiKz"
      },
      "source": [
        "train_images= x_train"
      ],
      "id": "sdWUVnE-LiKz",
      "execution_count": null,
      "outputs": []
    },
    {
      "cell_type": "code",
      "metadata": {
        "colab": {
          "base_uri": "https://localhost:8080/"
        },
        "id": "R3kxJyfHLiNg",
        "outputId": "de78d4d9-99cd-4dfd-960f-e2500682cd04"
      },
      "source": [
        "train_images.shape"
      ],
      "id": "R3kxJyfHLiNg",
      "execution_count": null,
      "outputs": [
        {
          "output_type": "execute_result",
          "data": {
            "text/plain": [
              "(2192, 128, 128, 1)"
            ]
          },
          "metadata": {
            "tags": []
          },
          "execution_count": 96
        }
      ]
    },
    {
      "cell_type": "code",
      "metadata": {
        "id": "Gys-l3YiLiQP"
      },
      "source": [
        " BUFFER_SIZE = 60000\n",
        " BATCH_SIZE = 32"
      ],
      "id": "Gys-l3YiLiQP",
      "execution_count": null,
      "outputs": []
    },
    {
      "cell_type": "code",
      "metadata": {
        "colab": {
          "base_uri": "https://localhost:8080/"
        },
        "id": "B4xJHacdPYJT",
        "outputId": "9382d2ff-70d1-4f98-8693-5f88689fa2c2"
      },
      "source": [
        "# Batch and shuffle the data\n",
        "train_dataset = tf.data.Dataset.from_tensor_slices(train_images).shuffle(BUFFER_SIZE).batch(BATCH_SIZE)\n",
        "print(type(train_dataset))"
      ],
      "id": "B4xJHacdPYJT",
      "execution_count": null,
      "outputs": [
        {
          "output_type": "stream",
          "text": [
            "<class 'tensorflow.python.data.ops.dataset_ops.BatchDataset'>\n"
          ],
          "name": "stdout"
        }
      ]
    },
    {
      "cell_type": "code",
      "metadata": {
        "id": "_jEUcRfMPYLj"
      },
      "source": [
        "import glob\n",
        "import imageio\n",
        "import matplotlib.pyplot as plt\n",
        "import numpy as np\n",
        "import os\n",
        "import PIL\n",
        "from tensorflow.keras import layers\n",
        "import time\n",
        "\n",
        "from IPython import display\n",
        "from keras.layers import Input, Reshape, Dropout, Dense, Flatten, BatchNormalization, Activation, ZeroPadding2D\n",
        "from keras.layers.advanced_activations import LeakyReLU\n",
        "from keras.layers.convolutional import UpSampling2D, Conv2D\n",
        "from keras.models import Sequential, Model, load_model\n",
        "from tensorflow.keras.optimizers import Adam\n",
        "import numpy as np\n",
        "from PIL import Image\n",
        "import os"
      ],
      "id": "_jEUcRfMPYLj",
      "execution_count": null,
      "outputs": []
    },
    {
      "cell_type": "code",
      "metadata": {
        "id": "6YiME3dkPYOx"
      },
      "source": [
        "def make_generator_model():\n",
        "    model = tf.keras.Sequential()\n",
        "    model.add(layers.Dense(8*8*256, use_bias=False, input_shape=Z.shape))\n",
        "    model.add(layers.BatchNormalization())\n",
        "    model.add(layers.LeakyReLU())\n",
        "\n",
        "    model.add(layers.Reshape((8, 8, 256)))\n",
        "    assert model.output_shape == (None, 8, 8, 256) # Note: None is the batch size\n",
        "\n",
        "    model.add(layers.Conv2DTranspose(128, (5, 5), strides=(1, 1), padding='same', use_bias=False))\n",
        "    assert model.output_shape == (None, 8, 8, 128)\n",
        "    model.add(layers.BatchNormalization())\n",
        "    model.add(layers.LeakyReLU())\n",
        "\n",
        "\n",
        "\n",
        "    model.add(layers.Conv2DTranspose(64, (5, 5), strides=(2, 2), padding='same', use_bias=False))\n",
        "    assert model.output_shape == (None, 16, 16, 64)\n",
        "    model.add(layers.BatchNormalization())\n",
        "    model.add(layers.LeakyReLU())\n",
        "\n",
        "    model.add(layers.Conv2DTranspose(64, (5, 5), strides=(2, 2), padding='same', use_bias=False, activation='tanh'))\n",
        "    assert model.output_shape == (None, 32, 32, 64)\n",
        "    model.add(layers.BatchNormalization())\n",
        "    model.add(layers.LeakyReLU())\n",
        "\n",
        "    model.add(layers.Conv2DTranspose(32, (5, 5), strides=(2, 2), padding='same', use_bias=False, activation='tanh'))\n",
        "    assert model.output_shape == (None, 64, 64, 32)\n",
        "    model.add(layers.BatchNormalization())\n",
        "    model.add(layers.LeakyReLU())\n",
        "\n",
        "    model.add(layers.Conv2DTranspose(1, (5, 5), strides=(2, 2), padding='same', use_bias=False, activation='tanh'))\n",
        "    #assert model.output_shape == (None, 128, 128)\n",
        "  \n",
        "    return model\n"
      ],
      "id": "6YiME3dkPYOx",
      "execution_count": null,
      "outputs": []
    },
    {
      "cell_type": "code",
      "metadata": {
        "id": "-KSoa7B1PYRF"
      },
      "source": [
        "generator = make_generator_model()\n",
        "\n"
      ],
      "id": "-KSoa7B1PYRF",
      "execution_count": null,
      "outputs": []
    },
    {
      "cell_type": "code",
      "metadata": {
        "colab": {
          "base_uri": "https://localhost:8080/",
          "height": 531
        },
        "id": "scsf-TRArnDE",
        "outputId": "a0c67349-c94c-4ba4-a26a-42cc69f679e9"
      },
      "source": [
        "noise = gmm.sample(100)[0]\n",
        "generated_image = generator(noise, training=False)\n",
        "print(generated_image[0, :, :, 0])\n",
        "plt.imshow(generated_image[0, :, :, 0], cmap='gray')"
      ],
      "id": "scsf-TRArnDE",
      "execution_count": null,
      "outputs": [
        {
          "output_type": "stream",
          "text": [
            "tf.Tensor(\n",
            "[[ 8.1181577e-05  1.9326856e-04  1.0446807e-04 ...  1.5401064e-03\n",
            "   1.5866090e-04 -8.1591075e-05]\n",
            " [-2.6618692e-04  4.1224179e-04 -4.2400075e-04 ...  2.4343401e-03\n",
            "  -2.1021925e-03 -1.1695470e-03]\n",
            " [ 6.1845669e-04  8.4821240e-04  2.5687943e-04 ... -2.3591856e-05\n",
            "   8.7336428e-04  1.8040186e-03]\n",
            " ...\n",
            " [ 1.0293593e-03  2.6421752e-03 -1.9572355e-04 ...  1.6919781e-02\n",
            "  -5.0982847e-03  1.2718179e-02]\n",
            " [ 8.8712818e-04 -5.8394467e-04  5.0855457e-04 ...  5.3376984e-03\n",
            "   1.9722898e-04  1.0857731e-03]\n",
            " [ 1.7779352e-04 -7.4575312e-04 -1.3194552e-03 ... -5.6553851e-03\n",
            "   3.1007722e-03  2.5548367e-04]], shape=(128, 128), dtype=float32)\n"
          ],
          "name": "stdout"
        },
        {
          "output_type": "execute_result",
          "data": {
            "text/plain": [
              "<matplotlib.image.AxesImage at 0x7f7a7d5f2890>"
            ]
          },
          "metadata": {
            "tags": []
          },
          "execution_count": 102
        },
        {
          "output_type": "display_data",
          "data": {
            "image/png": "[encoded data removed]",
            "text/plain": [
              "<Figure size 432x288 with 1 Axes>"
            ]
          },
          "metadata": {
            "tags": [],
            "needs_background": "light"
          }
        }
      ]
    },
    {
      "cell_type": "code",
      "metadata": {
        "colab": {
          "base_uri": "https://localhost:8080/"
        },
        "id": "41gBrpTarUKF",
        "outputId": "ba4b5404-b85c-4274-851d-c79d8745bc7e"
      },
      "source": [
        "generator.summary()"
      ],
      "id": "41gBrpTarUKF",
      "execution_count": null,
      "outputs": [
        {
          "output_type": "stream",
          "text": [
            "Model: \"sequential_2\"\n",
            "_________________________________________________________________\n",
            "Layer (type)                 Output Shape              Param #   \n",
            "=================================================================\n",
            "dense_2 (Dense)              (None, 16384)             1638400   \n",
            "_________________________________________________________________\n",
            "batch_normalization_5 (Batch (None, 16384)             65536     \n",
            "_________________________________________________________________\n",
            "leaky_re_lu_7 (LeakyReLU)    (None, 16384)             0         \n",
            "_________________________________________________________________\n",
            "reshape_1 (Reshape)          (None, 8, 8, 256)         0         \n",
            "_________________________________________________________________\n",
            "conv2d_transpose_5 (Conv2DTr (None, 8, 8, 128)         819200    \n",
            "_________________________________________________________________\n",
            "batch_normalization_6 (Batch (None, 8, 8, 128)         512       \n",
            "_________________________________________________________________\n",
            "leaky_re_lu_8 (LeakyReLU)    (None, 8, 8, 128)         0         \n",
            "_________________________________________________________________\n",
            "conv2d_transpose_6 (Conv2DTr (None, 16, 16, 64)        204800    \n",
            "_________________________________________________________________\n",
            "batch_normalization_7 (Batch (None, 16, 16, 64)        256       \n",
            "_________________________________________________________________\n",
            "leaky_re_lu_9 (LeakyReLU)    (None, 16, 16, 64)        0         \n",
            "_________________________________________________________________\n",
            "conv2d_transpose_7 (Conv2DTr (None, 32, 32, 64)        102400    \n",
            "_________________________________________________________________\n",
            "batch_normalization_8 (Batch (None, 32, 32, 64)        256       \n",
            "_________________________________________________________________\n",
            "leaky_re_lu_10 (LeakyReLU)   (None, 32, 32, 64)        0         \n",
            "_________________________________________________________________\n",
            "conv2d_transpose_8 (Conv2DTr (None, 64, 64, 32)        51200     \n",
            "_________________________________________________________________\n",
            "batch_normalization_9 (Batch (None, 64, 64, 32)        128       \n",
            "_________________________________________________________________\n",
            "leaky_re_lu_11 (LeakyReLU)   (None, 64, 64, 32)        0         \n",
            "_________________________________________________________________\n",
            "conv2d_transpose_9 (Conv2DTr (None, 128, 128, 1)       800       \n",
            "=================================================================\n",
            "Total params: 2,883,488\n",
            "Trainable params: 2,850,144\n",
            "Non-trainable params: 33,344\n",
            "_________________________________________________________________\n"
          ],
          "name": "stdout"
        }
      ]
    },
    {
      "cell_type": "code",
      "metadata": {
        "id": "-BsLEBw0PYTk"
      },
      "source": [
        "def make_discriminator_model():\n",
        "    model = tf.keras.Sequential()\n",
        "    model.add(layers.Conv2D(64, (5, 5), strides=(1, 1), padding='same',\n",
        "                                      input_shape=(128, 128,1)))\n",
        "                            \n",
        "    model.add(layers.LeakyReLU())\n",
        "    model.add(layers.Dropout(0.3))\n",
        "\n",
        "    model.add(layers.Conv2D(128, (5, 5), strides=(2, 2), padding='same'))\n",
        "    model.add(layers.LeakyReLU())\n",
        "    model.add(layers.Dropout(0.3))\n",
        "\n",
        "    model.add(layers.Flatten())\n",
        "    model.add(layers.Dense(1))\n",
        "\n",
        "    return model"
      ],
      "id": "-BsLEBw0PYTk",
      "execution_count": null,
      "outputs": []
    },
    {
      "cell_type": "code",
      "metadata": {
        "colab": {
          "base_uri": "https://localhost:8080/"
        },
        "id": "LXJ2sMo-PYVZ",
        "outputId": "8a35cdd7-cf7b-42f6-e93c-db87089855bf"
      },
      "source": [
        "discriminator = make_discriminator_model()\n",
        "decision = discriminator(generated_image)\n",
        "print (decision)"
      ],
      "id": "LXJ2sMo-PYVZ",
      "execution_count": null,
      "outputs": [
        {
          "output_type": "stream",
          "text": [
            "tf.Tensor(\n",
            "[[-5.6894956e-04]\n",
            " [-5.0579489e-04]\n",
            " [ 2.9420332e-04]\n",
            " [ 8.1028527e-04]\n",
            " [ 7.0295669e-04]\n",
            " [ 5.3538295e-04]\n",
            " [ 7.6390372e-04]\n",
            " [ 5.5459031e-04]\n",
            " [ 9.3624071e-04]\n",
            " [ 8.2403934e-04]\n",
            " [ 2.8235407e-04]\n",
            " [ 5.9577357e-04]\n",
            " [ 4.2282525e-04]\n",
            " [ 3.9491622e-04]\n",
            " [-3.4594443e-04]\n",
            " [-9.9773461e-04]\n",
            " [-1.9764225e-04]\n",
            " [-1.8826232e-04]\n",
            " [-6.8247842e-04]\n",
            " [-2.0842191e-03]\n",
            " [-2.5031953e-03]\n",
            " [-1.5110926e-04]\n",
            " [-3.1465059e-04]\n",
            " [-6.2958180e-04]\n",
            " [-7.5981696e-04]\n",
            " [-4.2184454e-04]\n",
            " [-2.4021876e-03]\n",
            " [-2.0227532e-03]\n",
            " [-2.8264448e-03]\n",
            " [-2.4833137e-04]\n",
            " [-1.0098693e-03]\n",
            " [-1.4019122e-03]\n",
            " [-2.3800078e-04]\n",
            " [-3.7983686e-03]\n",
            " [-1.2016167e-03]\n",
            " [-1.0374780e-03]\n",
            " [-1.1963374e-03]\n",
            " [-1.8659915e-03]\n",
            " [-9.4540283e-04]\n",
            " [-9.3889312e-04]\n",
            " [ 2.0484149e-03]\n",
            " [-7.0905464e-04]\n",
            " [-1.3985940e-03]\n",
            " [ 3.8450953e-04]\n",
            " [-3.8109789e-05]\n",
            " [ 5.7504489e-04]\n",
            " [ 1.8894774e-04]\n",
            " [ 3.2603835e-05]\n",
            " [ 6.6512736e-04]\n",
            " [ 3.8414093e-04]\n",
            " [ 6.9401911e-05]\n",
            " [ 1.0427309e-04]\n",
            " [ 9.8935816e-05]\n",
            " [ 8.1854130e-05]\n",
            " [ 1.1604648e-03]\n",
            " [ 9.4937655e-05]\n",
            " [-4.7024572e-04]\n",
            " [-7.8256993e-04]\n",
            " [-5.2566215e-04]\n",
            " [-1.1500959e-04]\n",
            " [-1.2468073e-03]\n",
            " [-3.5220328e-05]\n",
            " [-2.2806774e-04]\n",
            " [-2.3043225e-05]\n",
            " [-4.7618267e-04]\n",
            " [-2.3981275e-04]\n",
            " [-5.3312633e-05]\n",
            " [-1.4031348e-04]\n",
            " [-7.8433703e-05]\n",
            " [-7.6018466e-04]\n",
            " [-3.2420500e-04]\n",
            " [-9.2778559e-04]\n",
            " [ 3.5281372e-04]\n",
            " [-4.3374399e-04]\n",
            " [-8.6926774e-04]\n",
            " [-9.9492422e-04]\n",
            " [-1.2258738e-03]\n",
            " [-6.2131911e-04]\n",
            " [ 2.7012869e-04]\n",
            " [-2.6624568e-04]\n",
            " [-4.4857131e-04]\n",
            " [-1.9176015e-05]\n",
            " [-9.1781357e-04]\n",
            " [-2.2505187e-04]\n",
            " [-3.9441983e-04]\n",
            " [ 3.4735148e-04]\n",
            " [-4.8403640e-04]\n",
            " [-3.0355190e-04]\n",
            " [-2.8974499e-04]\n",
            " [-1.5785684e-03]\n",
            " [-1.0794067e-03]\n",
            " [-1.4122030e-03]\n",
            " [-1.9506558e-03]\n",
            " [-9.9724112e-04]\n",
            " [-1.5265939e-03]\n",
            " [-5.0288485e-04]\n",
            " [-1.1298691e-03]\n",
            " [-4.1764573e-04]\n",
            " [-1.2583114e-03]\n",
            " [-8.0022175e-04]], shape=(100, 1), dtype=float32)\n"
          ],
          "name": "stdout"
        }
      ]
    },
    {
      "cell_type": "code",
      "metadata": {
        "colab": {
          "base_uri": "https://localhost:8080/"
        },
        "id": "Un5ptbrFPYXG",
        "outputId": "5276a957-143c-4fd7-af48-cc1fe295681a"
      },
      "source": [
        "discriminator.summary()"
      ],
      "id": "Un5ptbrFPYXG",
      "execution_count": null,
      "outputs": [
        {
          "output_type": "stream",
          "text": [
            "Model: \"sequential_3\"\n",
            "_________________________________________________________________\n",
            "Layer (type)                 Output Shape              Param #   \n",
            "=================================================================\n",
            "conv2d_2 (Conv2D)            (None, 128, 128, 64)      1664      \n",
            "_________________________________________________________________\n",
            "leaky_re_lu_12 (LeakyReLU)   (None, 128, 128, 64)      0         \n",
            "_________________________________________________________________\n",
            "dropout_2 (Dropout)          (None, 128, 128, 64)      0         \n",
            "_________________________________________________________________\n",
            "conv2d_3 (Conv2D)            (None, 64, 64, 128)       204928    \n",
            "_________________________________________________________________\n",
            "leaky_re_lu_13 (LeakyReLU)   (None, 64, 64, 128)       0         \n",
            "_________________________________________________________________\n",
            "dropout_3 (Dropout)          (None, 64, 64, 128)       0         \n",
            "_________________________________________________________________\n",
            "flatten_1 (Flatten)          (None, 524288)            0         \n",
            "_________________________________________________________________\n",
            "dense_3 (Dense)              (None, 1)                 524289    \n",
            "=================================================================\n",
            "Total params: 730,881\n",
            "Trainable params: 730,881\n",
            "Non-trainable params: 0\n",
            "_________________________________________________________________\n"
          ],
          "name": "stdout"
        }
      ]
    },
    {
      "cell_type": "code",
      "metadata": {
        "id": "rfwspilJPYaS"
      },
      "source": [
        "\n",
        "# This method returns a helper function to compute cross entropy loss\n",
        "cross_entropy = tf.keras.losses.BinaryCrossentropy(from_logits=True)\n",
        "\n",
        "def discriminator_loss(real_output, fake_output):\n",
        "    real_loss = cross_entropy(tf.ones_like(real_output), real_output)\n",
        "    fake_loss = cross_entropy(tf.zeros_like(fake_output), fake_output)\n",
        "    total_loss = real_loss + fake_loss\n",
        "    return total_loss\n",
        "\n",
        "def generator_loss(fake_output):\n",
        "    return cross_entropy(tf.ones_like(fake_output), fake_output)\n",
        "\n",
        "generator_optimizer = tf.keras.optimizers.Adam(1e-4)\n",
        "discriminator_optimizer = tf.keras.optimizers.Adam(1e-4)"
      ],
      "id": "rfwspilJPYaS",
      "execution_count": null,
      "outputs": []
    },
    {
      "cell_type": "code",
      "metadata": {
        "id": "GyPoaOWqyMPh"
      },
      "source": [
        "import os\n",
        "\n",
        "checkpoint_dir = './training_checkpoints'\n",
        "checkpoint_prefix = os.path.join(checkpoint_dir, \"ckpt\")\n",
        "checkpoint = tf.train.Checkpoint(generator_optimizer=generator_optimizer,\n",
        "                                 discriminator_optimizer=discriminator_optimizer,\n",
        "                                 generator=generator,\n",
        "                                 discriminator=discriminator)"
      ],
      "id": "GyPoaOWqyMPh",
      "execution_count": null,
      "outputs": []
    },
    {
      "cell_type": "code",
      "metadata": {
        "id": "BvmHHTkLyMRd"
      },
      "source": [
        "EPOCHS = 500\n",
        "# We will reuse this seed overtime (so it's easier)\n",
        "# to visualize progress in the animated GIF)\n",
        "num_examples_to_generate = 16\n",
        "noise_dim = 100\n",
        "seed = tf.random.normal([num_examples_to_generate, noise_dim])"
      ],
      "id": "BvmHHTkLyMRd",
      "execution_count": null,
      "outputs": []
    },
    {
      "cell_type": "code",
      "metadata": {
        "id": "Hi4CPtUlArE0"
      },
      "source": [
        "noise = gmm.sample(100)[0]"
      ],
      "id": "Hi4CPtUlArE0",
      "execution_count": null,
      "outputs": []
    },
    {
      "cell_type": "code",
      "metadata": {
        "id": "VM_UmJZHyMTw"
      },
      "source": [
        "# tf.function annotation causes the function \n",
        "# to be \"compiled\" as part of the training\n",
        "@tf.function\n",
        "def train_step(images):\n",
        "  \n",
        "    # 1 - Create a random noise to feed it into the model\n",
        "    # for the image generation\n",
        "    noise = tf.random.normal([BATCH_SIZE, noise_dim])\n",
        "    \n",
        "    # 2 - Generate images and calculate loss values\n",
        "    # GradientTape method records operations for automatic differentiation.\n",
        "    with tf.GradientTape() as gen_tape, tf.GradientTape() as disc_tape:\n",
        "      generated_images = generator(noise, training=True)\n",
        "\n",
        "      real_output = discriminator(images, training=True)\n",
        "      fake_output = discriminator(generated_images, training=True)\n",
        "\n",
        "      gen_loss = generator_loss(fake_output)\n",
        "      disc_loss = discriminator_loss(real_output, fake_output)\n",
        "\n",
        "    # 3 - Calculate gradients using loss values and model variables\n",
        "    # \"gradient\" method computes the gradient using \n",
        "    # operations recorded in context of this tape (gen_tape and disc_tape).\n",
        "    \n",
        "    # It accepts a target (e.g., gen_loss) variable and \n",
        "    # a source variable (e.g.,generator.trainable_variables)\n",
        "    # target --> a list or nested structure of Tensors or Variables to be differentiated.\n",
        "    # source --> a list or nested structure of Tensors or Variables.\n",
        "    # target will be differentiated against elements in sources.\n",
        "\n",
        "    # \"gradient\" method returns a list or nested structure of Tensors  \n",
        "    # (or IndexedSlices, or None), one for each element in sources. \n",
        "    # Returned structure is the same as the structure of sources.\n",
        "    gradients_of_generator = gen_tape.gradient(gen_loss, \n",
        "                                               generator.trainable_variables)\n",
        "    gradients_of_discriminator = disc_tape.gradient(disc_loss, \n",
        "                                                discriminator.trainable_variables)\n",
        "    \n",
        "    # 4 - Process  Gradients and Run the Optimizer\n",
        "    # \"apply_gradients\" method processes aggregated gradients. \n",
        "    # ex: optimizer.apply_gradients(zip(grads, vars))\n",
        "    \"\"\"\n",
        "    Example use of apply_gradients:\n",
        "    grads = tape.gradient(loss, vars)\n",
        "    grads = tf.distribute.get_replica_context().all_reduce('sum', grads)\n",
        "    # Processing aggregated gradients.\n",
        "    optimizer.apply_gradients(zip(grads, vars), experimental_aggregate_gradients=False)\n",
        "    \"\"\"\n",
        "    generator_optimizer.apply_gradients(zip(gradients_of_generator, generator.trainable_variables))\n",
        "    discriminator_optimizer.apply_gradients(zip(gradients_of_discriminator, discriminator.trainable_variables))"
      ],
      "id": "VM_UmJZHyMTw",
      "execution_count": null,
      "outputs": []
    },
    {
      "cell_type": "code",
      "metadata": {
        "id": "lSIHN3UYyMWW"
      },
      "source": [
        "import time\n",
        "from IPython import display # A command shell for interactive computing in Python.\n",
        "\n",
        "def train(dataset, epochs):\n",
        "  # A. For each epoch, do the following:\n",
        "  for epoch in range(epochs):\n",
        "    start = time.time()\n",
        "    # 1 - For each batch of the epoch, \n",
        "    for image_batch in dataset:\n",
        "      # 1.a - run the custom \"train_step\" function\n",
        "      # we just declared above\n",
        "      train_step(image_batch)\n",
        "\n",
        "    # 2 - Produce images for the GIF as we go\n",
        "    display.clear_output(wait=True)\n",
        "    generate_and_save_images(generator,\n",
        "                             epoch + 1,\n",
        "                             seed)\n",
        "\n",
        "    # 3 - Save the model every 5 epochs as \n",
        "    # a checkpoint, which we will use later\n",
        "    if (epoch + 1) % 5 == 0:\n",
        "      checkpoint.save(file_prefix = checkpoint_prefix)\n",
        "\n",
        "    # 4 - Print out the completed epoch no. and the time spent\n",
        "    print ('Time for epoch {} is {} sec'.format(epoch + 1, time.time()-start))\n",
        "\n",
        "  # B. Generate a final image after the training is completed\n",
        "  display.clear_output(wait=True)\n",
        "  generate_and_save_images(generator,\n",
        "                           epochs,\n",
        "                           seed)"
      ],
      "id": "lSIHN3UYyMWW",
      "execution_count": null,
      "outputs": []
    },
    {
      "cell_type": "code",
      "metadata": {
        "id": "oIPi8GoMyMYL"
      },
      "source": [
        "def generate_and_save_images(model, epoch, test_input):\n",
        "  # Notice `training` is set to False.\n",
        "  # This is so all layers run in inference mode (batchnorm).\n",
        "  # 1 - Generate images\n",
        "  predictions = model(test_input, training=False)\n",
        "  # 2 - Plot the generated images\n",
        "  fig = plt.figure(figsize=(4,4))\n",
        "  for i in range(predictions.shape[0]):\n",
        "      plt.subplot(4, 4, i+1)\n",
        "      plt.imshow(predictions[i, :, :, 0] * 127.5 + 127.5, cmap='gray')\n",
        "      plt.axis('off')\n",
        "  # 3 - Save the generated images\n",
        "  plt.savefig('image_at_epoch_{:04d}.png'.format(epoch))\n",
        "  plt.show()"
      ],
      "id": "oIPi8GoMyMYL",
      "execution_count": null,
      "outputs": []
    },
    {
      "cell_type": "code",
      "metadata": {
        "id": "8lNy9bzGyMar"
      },
      "source": [
        "train(train_dataset, EPOCHS)"
      ],
      "id": "8lNy9bzGyMar",
      "execution_count": null,
      "outputs": []
    }
  ]
}